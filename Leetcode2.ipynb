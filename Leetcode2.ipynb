{
 "cells": [
  {
   "cell_type": "code",
   "execution_count": 2,
   "metadata": {},
   "outputs": [],
   "source": [
    "# 2. Add Two Numbers\n",
    "\n",
    "# You are given two non-empty linked lists representing two non-negative integers. \n",
    "# The digits are stored in reverse order, and each of their nodes contains a single digit. \n",
    "# Add the two numbers and return the sum as a linked list.\n",
    "\n",
    "# You may assume the two numbers do not contain any leading zero, except the number 0 itself."
   ]
  },
  {
   "cell_type": "code",
   "execution_count": 3,
   "metadata": {},
   "outputs": [
    {
     "name": "stdout",
     "output_type": "stream",
     "text": [
      "7 -> 0 -> 8 -> "
     ]
    }
   ],
   "source": [
    "class ListNode:\n",
    "    def __init__(self, val=0, next=None):\n",
    "        self.val = val\n",
    "        self.next = next\n",
    "\n",
    "class solution_leetcode_2:\n",
    "    def add_brute_force(self, l1: ListNode, l2: ListNode) -> ListNode:\n",
    "        carry = 0\n",
    "        dummy_head = ListNode()\n",
    "        current = dummy_head\n",
    "\n",
    "        # Traverse both linked lists until both are None and no carry is left\n",
    "        while l1 is not None or l2 is not None or carry != 0:\n",
    "            # Extract values from the nodes, or use 0 if there is no node\n",
    "            val1 = l1.val if l1 is not None else 0\n",
    "            val2 = l2.val if l2 is not None else 0\n",
    "\n",
    "            # Calculate the sum of the two digits and the carry\n",
    "            total = val1 + val2 + carry\n",
    "            carry = total // 10 # Update carry for the next step\n",
    "            current.next = ListNode(total % 10) # Create a new code with the current digit.\n",
    "\n",
    "            #Move to the next nodes in both linked lists and also in the result list\n",
    "            current = current.next\n",
    "            if l1 is not None:\n",
    "                l1 = l1.next\n",
    "            if l2 is not None:\n",
    "                l2 = l2.next\n",
    "\n",
    "        return dummy_head.next\n",
    "    \n",
    "solution = solution_leetcode_2()\n",
    "l1 = ListNode(2, ListNode(4, ListNode(3)))\n",
    "l2 = ListNode(5, ListNode(6, ListNode(4)))\n",
    "\n",
    "result = solution.add_brute_force(l1, l2)\n",
    "\n",
    "# Print the result\n",
    "while result is not None:\n",
    "    print(result.val, end=\" -> \")\n",
    "    result = result.next\n"
   ]
  }
 ],
 "metadata": {
  "kernelspec": {
   "display_name": "Python 3",
   "language": "python",
   "name": "python3"
  },
  "language_info": {
   "codemirror_mode": {
    "name": "ipython",
    "version": 3
   },
   "file_extension": ".py",
   "mimetype": "text/x-python",
   "name": "python",
   "nbconvert_exporter": "python",
   "pygments_lexer": "ipython3",
   "version": "3.12.2"
  }
 },
 "nbformat": 4,
 "nbformat_minor": 2
}
