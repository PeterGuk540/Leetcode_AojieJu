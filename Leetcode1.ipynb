{
 "cells": [
  {
   "cell_type": "code",
   "execution_count": 3,
   "metadata": {},
   "outputs": [],
   "source": [
    "# Question 1. Two Sum\n",
    "\n",
    "# Given an array of integers nums and an integer target, return indices of the two numbers such that they add up to target.\n",
    "\n",
    "# You may assume that each input would have exactly one solution, and you may not use the same element twice.\n",
    "\n",
    "# You can return the answer in any order.\n",
    "\n",
    "# Example 1:\n",
    "\n",
    "# Input: nums = [2,7,11,15], target = 9\n",
    "# Output: [0,1]\n",
    "# Explanation: Because nums[0] + nums[1] == 9, we return [0, 1].\n",
    "\n",
    "# Constraints:\n",
    "\n",
    "# 2 <= nums.length <= 104\n",
    "# -109 <= nums[i] <= 109\n",
    "# -109 <= target <= 109\n",
    "# Only one valid answer exists.\n",
    " \n",
    "\n",
    "# Follow-up: Can you come up with an algorithm that is less than O(n2) time complexity?"
   ]
  },
  {
   "cell_type": "code",
   "execution_count": 4,
   "metadata": {},
   "outputs": [
    {
     "name": "stdout",
     "output_type": "stream",
     "text": [
      "[0, 1]\n",
      "[0, 1]\n"
     ]
    }
   ],
   "source": [
    "# The brute-force way: two loops\n",
    "def two_sum(nums, target):\n",
    "    for i in range(len(nums)):\n",
    "        for j in range(i + 1, len(nums)):\n",
    "            if nums[i] + nums [j] == target:\n",
    "                return[i, j]\n",
    "            \n",
    "nums = [2,7,11,15]\n",
    "target = 9\n",
    "result = two_sum(nums, target)\n",
    "print(result)\n",
    "\n",
    "# Two pointers\n",
    "def two_sum(nums, target):\n",
    "    nums.sort() # First sort the array\n",
    "    left, right = 0, len(nums) - 1\n",
    "    while left < right:\n",
    "        if nums[left] + nums[right] == target:\n",
    "            return[left, right]\n",
    "        elif nums[left] + nums[right] > target:\n",
    "            right -= 1\n",
    "        else:\n",
    "            left += 1\n",
    "    return[]\n",
    "\n",
    "nums = [2,7,11,15]\n",
    "target = 9\n",
    "result = two_sum(nums, target)\n",
    "print(result)"
   ]
  }
 ],
 "metadata": {
  "kernelspec": {
   "display_name": "Python 3",
   "language": "python",
   "name": "python3"
  },
  "language_info": {
   "codemirror_mode": {
    "name": "ipython",
    "version": 3
   },
   "file_extension": ".py",
   "mimetype": "text/x-python",
   "name": "python",
   "nbconvert_exporter": "python",
   "pygments_lexer": "ipython3",
   "version": "3.12.2"
  }
 },
 "nbformat": 4,
 "nbformat_minor": 2
}
