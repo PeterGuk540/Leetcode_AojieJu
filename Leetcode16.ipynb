{
 "cells": [
  {
   "cell_type": "code",
   "execution_count": null,
   "metadata": {},
   "outputs": [],
   "source": [
    "# 3Sum Closest\n",
    "\n",
    "# Given an integer array nums of length n and an integer target, find three integers in nums such that the sum is closest to target.\n",
    "\n",
    "# Return the sum of the three integers.\n",
    "\n",
    "# You may assume that each input would have exactly one solution.\n",
    "\n",
    " \n",
    "\n",
    "# Example 1:\n",
    "\n",
    "# Input: nums = [-1,2,1,-4], target = 1\n",
    "# Output: 2\n",
    "# Explanation: The sum that is closest to the target is 2. (-1 + 2 + 1 = 2)."
   ]
  },
  {
   "cell_type": "code",
   "execution_count": 8,
   "metadata": {},
   "outputs": [
    {
     "name": "stdout",
     "output_type": "stream",
     "text": [
      "2 2\n"
     ]
    }
   ],
   "source": [
    "import math\n",
    "class solution_leetcode_16:\n",
    "    def sum_brute_force(nums, target):\n",
    "        min_diff = math.inf\n",
    "        for i in range(len(nums)):\n",
    "            for j in range(i + 1, len(nums)):\n",
    "                for r in range(j + 1, len(nums)):\n",
    "                    sum = nums[i] + nums[j] + nums[r]\n",
    "                    difference = abs(sum - target)\n",
    "                    if difference < min_diff:\n",
    "                        min_diff = difference\n",
    "                        closest_sum = sum\n",
    "        return closest_sum\n",
    "    def sum_two_pointers(nums, target):\n",
    "        min_diff = math.inf\n",
    "        nums.sort()\n",
    "        for i in range(len(nums) - 2):\n",
    "            left, right = i + 1, len(nums) - 1\n",
    "            while left < right:\n",
    "                sum = nums[i] + nums[left] + nums[right]\n",
    "                difference = abs(sum - target)\n",
    "                if difference < min_diff:\n",
    "                        min_diff = difference\n",
    "                        closest_sum = sum\n",
    "                if sum < target:\n",
    "                    left += 1\n",
    "                elif sum == target:\n",
    "                    return closest_sum\n",
    "                else: right -= 1\n",
    "        return closest_sum\n",
    "                    \n",
    "\n",
    "            \n",
    "\n",
    "\n",
    "nums = [-1,2,1,-4]\n",
    "target = 1\n",
    "result_brute_force = solution_leetcode_16.sum_brute_force(nums, target)\n",
    "result_two_pointers = solution_leetcode_16.sum_two_pointers(nums, target)\n",
    "print(result_brute_force, result_two_pointers)"
   ]
  }
 ],
 "metadata": {
  "kernelspec": {
   "display_name": "Python 3",
   "language": "python",
   "name": "python3"
  },
  "language_info": {
   "codemirror_mode": {
    "name": "ipython",
    "version": 3
   },
   "file_extension": ".py",
   "mimetype": "text/x-python",
   "name": "python",
   "nbconvert_exporter": "python",
   "pygments_lexer": "ipython3",
   "version": "3.12.2"
  }
 },
 "nbformat": 4,
 "nbformat_minor": 2
}
