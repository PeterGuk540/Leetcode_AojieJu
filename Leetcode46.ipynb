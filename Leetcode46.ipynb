{
 "cells": [
  {
   "cell_type": "code",
   "execution_count": null,
   "metadata": {},
   "outputs": [],
   "source": [
    "# 46. Permutations\n",
    "\n",
    "# Given an array nums of distinct integers, return all the possible permutations. \n",
    "# You can return the answer in any order."
   ]
  },
  {
   "cell_type": "code",
   "execution_count": null,
   "metadata": {},
   "outputs": [
    {
     "name": "stdout",
     "output_type": "stream",
     "text": [
      "[[1, 2, 3], [2, 1, 3], [2, 3, 1], [2, 3, 1], [1, 3, 2], [3, 1, 2], [3, 2, 1], [3, 2, 1], [1, 3, 2], [3, 1, 2], [3, 2, 1], [3, 2, 1], [1, 2, 3], [2, 1, 3], [2, 3, 1], [2, 3, 1], [1, 3, 2], [3, 1, 2], [3, 2, 1], [3, 2, 1], [1, 3, 2], [3, 1, 2], [3, 2, 1], [3, 2, 1]]\n"
     ]
    }
   ],
   "source": [
    "from typing import List\n",
    "class solution_leetcode_46:\n",
    "    def perm(self, nums: List[int]) -> List[List[int]]:\n",
    "        if len(nums) == 0:\n",
    "            return [[]]\n",
    "        \n",
    "        perms = self.perm(nums[1:])\n",
    "        res = []\n",
    "        for p in perms:\n",
    "            for i in range(len(nums) + 1):\n",
    "                p_copy = p.copy()\n",
    "                p_copy.insert(i, nums[0])\n",
    "                res.append(p_copy)\n",
    "\n",
    "        return res\n",
    "\n",
    "nums = [1, 2, 3]\n",
    "solution = solution_leetcode_46()\n",
    "result = solution.perm(nums)\n",
    "print(result)"
   ]
  }
 ],
 "metadata": {
  "kernelspec": {
   "display_name": "Python 3",
   "language": "python",
   "name": "python3"
  },
  "language_info": {
   "codemirror_mode": {
    "name": "ipython",
    "version": 3
   },
   "file_extension": ".py",
   "mimetype": "text/x-python",
   "name": "python",
   "nbconvert_exporter": "python",
   "pygments_lexer": "ipython3",
   "version": "3.12.2"
  }
 },
 "nbformat": 4,
 "nbformat_minor": 2
}
