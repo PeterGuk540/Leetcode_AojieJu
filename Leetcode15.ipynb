{
 "cells": [
  {
   "cell_type": "code",
   "execution_count": 1,
   "metadata": {},
   "outputs": [],
   "source": [
    "# Question 15: 3 Sum\n",
    "\n",
    "# Given an integer array nums, return all the triplets [nums[i], nums[j], nums[k]] such that i != j, i != k, and j != k, and nums[i] + nums[j] + nums[k] == 0.\n",
    "\n",
    "# Notice that the solution set must not contain duplicate triplets."
   ]
  },
  {
   "cell_type": "code",
   "execution_count": 12,
   "metadata": {},
   "outputs": [
    {
     "name": "stdout",
     "output_type": "stream",
     "text": [
      "[[-1, 0, 1], [-1, -1, 2]] [[-1, -1, 2], [-1, 0, 1]]\n"
     ]
    }
   ],
   "source": [
    "class solutions_leetcode_15:\n",
    "    # Brute-force approach\n",
    "    def sum_brute_force(nums):\n",
    "        result = set()\n",
    "        for i in range(len(nums)):\n",
    "            for j in range(i + 1, len(nums)):\n",
    "                for r in range(j + 1, len(nums)):\n",
    "                    if nums[i] + nums[j] + nums[r] == 0:\n",
    "                        triplet = tuple(sorted([nums[i], nums[j], nums[r]]))\n",
    "                        result.add(triplet)\n",
    "        return [list(triplet) for triplet in result] # I could consider this way,  create the result array and store it first. I just need to return the result.\n",
    "\n",
    "    def sum_two_pointers(nums):\n",
    "        nums.sort()\n",
    "        result = []\n",
    "        for i in range(len(nums) - 2):\n",
    "            if i > 0 and nums[i] == nums[i - 1]:\n",
    "                continue # Skip duplicate fixed numbers\n",
    "            left, right = i + 1, len(nums) - 1\n",
    "            while left < right:\n",
    "                current_sum = nums[i] + nums[left] + nums[right]\n",
    "                if current_sum == 0:\n",
    "                    result.append([nums[i], nums[left], nums[right]])\n",
    "                    while left < right and nums[left] == nums[left + 1]:\n",
    "                        left += 1 # Skip duplicate left numbers\n",
    "                    while left < right and nums[right] == nums[right - 1]:\n",
    "                        right -= 1 # Skip dulicate right numbers\n",
    "                    left += 1\n",
    "                    right -= 1\n",
    "                elif current_sum < 0:\n",
    "                    left += 1\n",
    "                else:\n",
    "                    right -= 1\n",
    "        return result\n",
    "\n",
    "\n",
    "nums = [-1, 0, 1, 2, -1, -4]\n",
    "result_brute_force = solutions_leetcode_15.sum_brute_force(nums)\n",
    "result_two_pointers = solutions_leetcode_15.sum_two_pointers(nums)\n",
    "print(result_brute_force, result_two_pointers)\n",
    "\n"
   ]
  }
 ],
 "metadata": {
  "kernelspec": {
   "display_name": "Python 3",
   "language": "python",
   "name": "python3"
  },
  "language_info": {
   "codemirror_mode": {
    "name": "ipython",
    "version": 3
   },
   "file_extension": ".py",
   "mimetype": "text/x-python",
   "name": "python",
   "nbconvert_exporter": "python",
   "pygments_lexer": "ipython3",
   "version": "3.12.2"
  }
 },
 "nbformat": 4,
 "nbformat_minor": 2
}
