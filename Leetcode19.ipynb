{
 "cells": [
  {
   "cell_type": "code",
   "execution_count": 7,
   "metadata": {},
   "outputs": [],
   "source": [
    "# 19: Remove Nth Node from end of list\n",
    "\n",
    "# Given the head of a linked list, remove the nth node from the end of the list and return its head."
   ]
  },
  {
   "cell_type": "code",
   "execution_count": 8,
   "metadata": {},
   "outputs": [
    {
     "name": "stdout",
     "output_type": "stream",
     "text": [
      "Original list:\n",
      "1 -> 2 -> 3 -> 4 -> 5\n",
      "Modified list after removing nth node from end:\n",
      "1 -> 2 -> 3 -> 5\n"
     ]
    }
   ],
   "source": [
    "class ListNode:\n",
    "    def __init__(self, val=0, next=None):\n",
    "        self.val = val\n",
    "        self.next = next\n",
    "\n",
    "class solution_leetcode_19:\n",
    "    def remove_two_pointers(self, head: ListNode, n: int) -> ListNode:\n",
    "        dummy = ListNode(0, head)\n",
    "        dummy.next = head\n",
    "\n",
    "        first, second = dummy, dummy\n",
    "        for _ in range(n + 1):\n",
    "            first = first.next\n",
    "            # move the first pointer n + 1 steps ahead.\n",
    "\n",
    "        while first:\n",
    "            first = first.next\n",
    "            second = second.next\n",
    "            # move both pointers until the first pointer reaches the end\n",
    "\n",
    "        second.next = second.next.next\n",
    "        # leave out the node pointed by second\n",
    "\n",
    "        return dummy.next\n",
    "\n",
    "        \n",
    "# Helper function to print the linked list\n",
    "def print_list(head: ListNode):\n",
    "    current = head\n",
    "    while current:\n",
    "        print(current.val, end=\" -> \" if current.next else \"\")\n",
    "        current = current.next\n",
    "    print()\n",
    "\n",
    "# Helper function to create a linked list from a list of values\n",
    "def create_linked_list(values):\n",
    "    if not values:\n",
    "        return None\n",
    "    head = ListNode(values[0])\n",
    "    current = head\n",
    "    for value in values[1:]:\n",
    "        current.next = ListNode(value)\n",
    "        current = current.next\n",
    "    return head\n",
    "\n",
    "# Example usage\n",
    "values = [1, 2, 3, 4, 5]  # Initial linked list values\n",
    "n = 2  # Remove the 2nd node from the end\n",
    "\n",
    "# Create the linked list\n",
    "head = create_linked_list(values)\n",
    "print(\"Original list:\")\n",
    "print_list(head)\n",
    "\n",
    "# Remove the nth node from the end\n",
    "solution = solution_leetcode_19()\n",
    "new_head = solution.remove_two_pointers(head, n)\n",
    "\n",
    "# Print the modified list\n",
    "print(\"Modified list after removing nth node from end:\")\n",
    "print_list(new_head)\n"
   ]
  }
 ],
 "metadata": {
  "kernelspec": {
   "display_name": "Python 3",
   "language": "python",
   "name": "python3"
  },
  "language_info": {
   "codemirror_mode": {
    "name": "ipython",
    "version": 3
   },
   "file_extension": ".py",
   "mimetype": "text/x-python",
   "name": "python",
   "nbconvert_exporter": "python",
   "pygments_lexer": "ipython3",
   "version": "3.12.2"
  }
 },
 "nbformat": 4,
 "nbformat_minor": 2
}
