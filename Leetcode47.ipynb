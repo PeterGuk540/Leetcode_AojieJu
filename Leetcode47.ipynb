{
 "cells": [
  {
   "cell_type": "code",
   "execution_count": 13,
   "metadata": {},
   "outputs": [],
   "source": [
    "# 47. Permutations 2\n",
    "\n",
    "# Given a collection of numbers, nums, that might contain duplicates, return all possible unique permutations in any order."
   ]
  },
  {
   "cell_type": "code",
   "execution_count": null,
   "metadata": {},
   "outputs": [
    {
     "name": "stdout",
     "output_type": "stream",
     "text": [
      "[[1, 2, 2, 3, 4, 5, 5], [1, 2, 2, 3, 4, 5, 5], [1, 2, 2, 3, 4, 5, 5], [1, 2, 2, 3, 4, 5, 5], [1, 2, 2, 3, 4, 5, 5], [1, 2, 2, 3, 4, 5, 5]]\n"
     ]
    }
   ],
   "source": [
    "from typing import List\n",
    "class solution_leetcode_47:\n",
    "    def backtrack(self, num = List[int]) -> List[List[int]]:\n",
    "        perms, res = [], []\n",
    "        counts = {n:0 for n in nums}\n",
    "\n",
    "        for n in nums:\n",
    "            counts[n] += 1\n",
    "\n",
    "        def dfs():\n",
    "            if len(perms) == len(nums):\n",
    "                res.append(perms.copy())\n",
    "                return\n",
    "\n",
    "            for n in counts:\n",
    "                if counts[n] > 0:\n",
    "                    perms.append(n)\n",
    "                    counts[n] -= 1\n",
    "                    dfs()\n",
    "            \n",
    "\n",
    "            counts[n] += 1\n",
    "            perms.pop()\n",
    "        \n",
    "        dfs()\n",
    "        return res\n",
    "\n",
    "\n",
    "nums = [1, 2, 2, 3, 4, 5, 5]\n",
    "solution = solution_leetcode_47()\n",
    "result = solution.backtrack(nums)\n",
    "print(result)\n"
   ]
  }
 ],
 "metadata": {
  "kernelspec": {
   "display_name": "Python 3",
   "language": "python",
   "name": "python3"
  },
  "language_info": {
   "codemirror_mode": {
    "name": "ipython",
    "version": 3
   },
   "file_extension": ".py",
   "mimetype": "text/x-python",
   "name": "python",
   "nbconvert_exporter": "python",
   "pygments_lexer": "ipython3",
   "version": "3.12.2"
  }
 },
 "nbformat": 4,
 "nbformat_minor": 2
}
