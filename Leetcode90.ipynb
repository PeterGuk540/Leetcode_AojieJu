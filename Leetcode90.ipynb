{
 "cells": [
  {
   "cell_type": "code",
   "execution_count": 3,
   "metadata": {},
   "outputs": [],
   "source": [
    "# 90. Subset2\n",
    "\n",
    "# Given an integer array nums that may contain duplicates, return all possible \n",
    "# subsets (the power set).\n",
    "\n",
    "# The solution set must not contain duplicate subsets. Return the solution in any order."
   ]
  },
  {
   "cell_type": "code",
   "execution_count": 4,
   "metadata": {},
   "outputs": [
    {
     "name": "stdout",
     "output_type": "stream",
     "text": [
      "[[0, 1, 2, 2], [0, 1, 2], [0, 1], [0, 2, 2], [0, 2], [0], [1, 2, 2], [1, 2], [1], [2, 2], [2], []]\n"
     ]
    }
   ],
   "source": [
    "from typing import List\n",
    "\n",
    "class solution_leetcode_90:\n",
    "    def bt(self, nums: List[int]) -> List[List[int]]:\n",
    "        res = []\n",
    "        nums.sort()\n",
    "        \n",
    "        def backtrack(i, subset):\n",
    "            if i == len(nums):\n",
    "                res.append(subset[:])\n",
    "                return res\n",
    "            \n",
    "            # to let subsets include nums[i]\n",
    "            subset.append(nums[i])\n",
    "            backtrack(i + 1, subset)\n",
    "            subset.pop()\n",
    "\n",
    "            # to let subsets not include nums[i]\n",
    "            while i + 1 < len(nums) and nums[i] == nums[i + 1]:\n",
    "                i += 1\n",
    "            backtrack(i + 1, subset)\n",
    "        backtrack(0, [])\n",
    "        return res\n",
    "\n",
    "nums = [0, 1, 2, 2]    \n",
    "solution = solution_leetcode_90()\n",
    "result = solution.bt(nums)\n",
    "print(result)\n",
    "\n",
    "    "
   ]
  }
 ],
 "metadata": {
  "kernelspec": {
   "display_name": "Python 3",
   "language": "python",
   "name": "python3"
  },
  "language_info": {
   "codemirror_mode": {
    "name": "ipython",
    "version": 3
   },
   "file_extension": ".py",
   "mimetype": "text/x-python",
   "name": "python",
   "nbconvert_exporter": "python",
   "pygments_lexer": "ipython3",
   "version": "3.12.2"
  }
 },
 "nbformat": 4,
 "nbformat_minor": 2
}
