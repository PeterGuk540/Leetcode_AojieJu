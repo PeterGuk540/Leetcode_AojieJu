{
 "cells": [
  {
   "cell_type": "code",
   "execution_count": null,
   "metadata": {},
   "outputs": [],
   "source": [
    "# 21. Merge Two Sorted Lists\n",
    "\n",
    "# You are given the heads of two sorted linked lists list1 and list2.\n",
    "\n",
    "# Merge the two lists into one sorted list. The list should be made by splicing together the nodes of the first two lists.\n",
    "\n",
    "# Return the head of the merged linked list."
   ]
  },
  {
   "cell_type": "code",
   "execution_count": null,
   "metadata": {},
   "outputs": [],
   "source": [
    "class ListNode:\n",
    "    def __init__(self, val = 0, next = None):\n",
    "        self.val = val\n",
    "        self.next = next\n",
    "\n",
    "class solution_leetcode_21:\n",
    "    def merge_brute_force(self, l1: ListNode, l2: ListNode) -> ListNode:\n",
    " # Create a dummy node to simplify merging process\n",
    "        dummy = ListNode()\n",
    "        current = dummy\n",
    "\n",
    "        # Iterate over both lists while they have elements\n",
    "        while list1 and list2:\n",
    "            if list1.val < list2.val:\n",
    "                current.next = list1\n",
    "                list1 = list1.next\n",
    "            else:\n",
    "                current.next = list2\n",
    "                list2 = list2.next\n",
    "            current = current.next\n",
    "\n",
    "        # Attach the remaining elements of list1 or list2\n",
    "        current.next = list1 if list1 else list2\n",
    "        return dummy.next\n",
    "\n",
    "  "
   ]
  }
 ],
 "metadata": {
  "kernelspec": {
   "display_name": "Python 3",
   "language": "python",
   "name": "python3"
  },
  "language_info": {
   "name": "python",
   "version": "3.12.2"
  }
 },
 "nbformat": 4,
 "nbformat_minor": 2
}
