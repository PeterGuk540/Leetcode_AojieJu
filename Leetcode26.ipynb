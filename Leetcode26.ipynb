{
 "cells": [
  {
   "cell_type": "code",
   "execution_count": null,
   "metadata": {},
   "outputs": [],
   "source": [
    "# 26. Remove Duplicates from Sorted Array\n",
    "\n",
    "# Given an integer array nums sorted in non-decreasing order, remove the duplicates in-place such that each unique element appears only once. The relative order of the elements should be kept the same. Then return the number of unique elements in nums.\n",
    "\n",
    "# Consider the number of unique elements of nums to be k, to get accepted, you need to do the following things:\n",
    "\n",
    "# Change the array nums such that the first k elements of nums contain the unique elements in the order they were present in nums initially. The remaining elements of nums are not important as well as the size of nums.\n",
    "# Return k.\n",
    "\n",
    "# Custom Judge:\n",
    "# The judge will test your solution with the following code:\n",
    "# int[] nums = [...]; // Input array\n",
    "# int[] expectedNums = [...]; // The expected answer with correct length\n",
    "\n",
    "# int k = removeDuplicates(nums); // Calls your implementation\n",
    "\n",
    "# assert k == expectedNums.length;\n",
    "# for (int i = 0; i < k; i++) {\n",
    "#    assert nums[i] == expectedNums[i];\n",
    "# }\n",
    "\n",
    "# If all assertions pass, then your solution will be accepted.\n",
    "\n",
    " "
   ]
  },
  {
   "cell_type": "code",
   "execution_count": 5,
   "metadata": {},
   "outputs": [
    {
     "name": "stdout",
     "output_type": "stream",
     "text": [
      "5 [0, 1, 2, 3, 4]\n",
      "5 [0, 1, 2, 3, 4]\n"
     ]
    }
   ],
   "source": [
    "class solution_leetcode_26:\n",
    "    def duplicate_brute_force(nums):\n",
    "        for i in range(len(nums) - 1):\n",
    "            for j in range(len(nums) - 1, i, -1): # Iterate from the end of the array.\n",
    "                if nums[i] == nums[j]:\n",
    "                    nums.pop(j)\n",
    "        k = len(nums)\n",
    "        return k\n",
    "\n",
    "    def duplicate_two_pointers(nums):\n",
    "        n = len(nums)\n",
    "        i, j = 0, 1\n",
    "        while j < n:\n",
    "            if nums[i] == nums[j]:\n",
    "                j += 1\n",
    "            if nums[i] < nums[j]:\n",
    "                i += 1\n",
    "                nums[i], nums[j] = nums[j], nums[i]\n",
    "                j += 1\n",
    "        return i + 1\n",
    "            \n",
    "\n",
    "    \n",
    "nums = [0,0,1,1,1,2,2,3,3,4]\n",
    "result_brute_force = solution_leetcode_26.duplicate_brute_force(nums)\n",
    "result_two_pointers = solution_leetcode_26.duplicate_two_pointers(nums)\n",
    "print(result_brute_force, nums[:result_brute_force])\n",
    "print(result_two_pointers, nums[:result_two_pointers])\n"
   ]
  }
 ],
 "metadata": {
  "kernelspec": {
   "display_name": "Python 3",
   "language": "python",
   "name": "python3"
  },
  "language_info": {
   "codemirror_mode": {
    "name": "ipython",
    "version": 3
   },
   "file_extension": ".py",
   "mimetype": "text/x-python",
   "name": "python",
   "nbconvert_exporter": "python",
   "pygments_lexer": "ipython3",
   "version": "3.12.2"
  }
 },
 "nbformat": 4,
 "nbformat_minor": 2
}
