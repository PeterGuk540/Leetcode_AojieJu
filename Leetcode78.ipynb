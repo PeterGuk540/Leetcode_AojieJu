{
 "cells": [
  {
   "cell_type": "code",
   "execution_count": 7,
   "metadata": {},
   "outputs": [],
   "source": [
    "# 78: Subsets\n",
    "\n",
    "# Given an integer array nums of unique elements, return all possible subsets (the power set).\n",
    "\n",
    "# The solution set must not contain duplicate subsets. Return the solution in any order."
   ]
  },
  {
   "cell_type": "code",
   "execution_count": 8,
   "metadata": {},
   "outputs": [
    {
     "name": "stdout",
     "output_type": "stream",
     "text": [
      "[[], [3], [2], [2, 3], [1], [1, 3], [1, 2], [1, 2, 3], [0], [0, 3], [0, 2], [0, 2, 3], [0, 1], [0, 1, 3], [0, 1, 2], [0, 1, 2, 3]]\n"
     ]
    }
   ],
   "source": [
    "# solution 1: backtracking: generate all possible subsets by including or excluding each element.\n",
    "\n",
    "# It is a tree problem\n",
    "\n",
    "from typing import List\n",
    "\n",
    "class solution_leetcode_78:\n",
    "    def subsets(self, nums: List[int]) -> List[List[int]]:\n",
    "        n = len(nums)\n",
    "        res, sol = [], []\n",
    "        def backtrack(i):\n",
    "            if i == n:\n",
    "                res.append(sol[:])\n",
    "                return\n",
    "            \n",
    "            backtrack(i + 1)\n",
    "\n",
    "            sol.append(nums[i])\n",
    "            backtrack(i + 1)\n",
    "            sol.pop()\n",
    "\n",
    "        backtrack(0)\n",
    "        return res\n",
    "\n",
    "nums = [0, 1, 2, 3]\n",
    "solution = solution_leetcode_78()\n",
    "result = solution.subsets(nums)\n",
    "print(result)        \n",
    "    \n"
   ]
  }
 ],
 "metadata": {
  "kernelspec": {
   "display_name": "Python 3",
   "language": "python",
   "name": "python3"
  },
  "language_info": {
   "codemirror_mode": {
    "name": "ipython",
    "version": 3
   },
   "file_extension": ".py",
   "mimetype": "text/x-python",
   "name": "python",
   "nbconvert_exporter": "python",
   "pygments_lexer": "ipython3",
   "version": "3.12.2"
  }
 },
 "nbformat": 4,
 "nbformat_minor": 2
}
