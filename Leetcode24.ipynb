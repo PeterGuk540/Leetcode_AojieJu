{
 "cells": [
  {
   "cell_type": "code",
   "execution_count": 5,
   "metadata": {},
   "outputs": [],
   "source": [
    "# 24: Swap Nodes in Pairs\n",
    "\n",
    "# Given a linked list, swap every two adjacent nodes and return its head. \n",
    "# You must solve the problem without modifying the values in the list's nodes \n",
    "# (i.e., only nodes themselves may be changed.)"
   ]
  },
  {
   "cell_type": "code",
   "execution_count": 6,
   "metadata": {},
   "outputs": [
    {
     "name": "stdout",
     "output_type": "stream",
     "text": [
      "Original list:\n",
      "1 -> 2 -> 3 -> 4\n",
      "Modified list after swapping pairs:\n",
      "2 -> 1 -> 4 -> 3\n"
     ]
    }
   ],
   "source": [
    "class ListNode:\n",
    "    def __init__(self, val = 0, next = None):\n",
    "        self.val = val\n",
    "        self.next = next\n",
    "\n",
    "class solution_leetcode_24:\n",
    "    def swap_pointers(self, head: ListNode) -> ListNode:\n",
    "        dummy = ListNode(0, head)\n",
    "\n",
    "        prev = dummy\n",
    "        # set a pointer: prev to indicate the node before the pair to be swapped\n",
    "        current = head\n",
    "        \n",
    "        while current and current.next:\n",
    "            first = current\n",
    "            second = current.next\n",
    "            # set two pointers starting from the first pair to swap\n",
    "            prev.next = second\n",
    "            # make the next second\n",
    "            first.next = second.next\n",
    "            # make first connect with the next after the pair\n",
    "            second.next = first\n",
    "            # make second connect with the first\n",
    "\n",
    "            prev = first\n",
    "            current = first.next\n",
    "            # Move to the next pair\n",
    "\n",
    "        return dummy.next\n",
    "\n",
    "\n",
    "def print_list(head: ListNode):\n",
    "    current = head\n",
    "    while current:\n",
    "        print(current.val, end=\" -> \" if current.next else \"\")\n",
    "        current = current.next\n",
    "    print()  # Newline at the end\n",
    "\n",
    "\n",
    "def create_linked_list(values):\n",
    "    if not values:\n",
    "        return None\n",
    "    head = ListNode(values[0])\n",
    "    current = head\n",
    "    for value in values[1:]:\n",
    "        current.next = ListNode(value)\n",
    "        current = current.next\n",
    "    return head\n",
    "\n",
    "# Example usage\n",
    "values = [1, 2, 3, 4]  # Initial linked list values\n",
    "# Create the linked list\n",
    "head = create_linked_list(values)\n",
    "print(\"Original list:\")\n",
    "print_list(head)\n",
    "\n",
    "# Swap nodes in pairs\n",
    "solution = solution_leetcode_24()\n",
    "new_head = solution.swap_pointers(head)\n",
    "\n",
    "# Print the modified list\n",
    "print(\"Modified list after swapping pairs:\")\n",
    "print_list(new_head)"
   ]
  }
 ],
 "metadata": {
  "kernelspec": {
   "display_name": "Python 3",
   "language": "python",
   "name": "python3"
  },
  "language_info": {
   "codemirror_mode": {
    "name": "ipython",
    "version": 3
   },
   "file_extension": ".py",
   "mimetype": "text/x-python",
   "name": "python",
   "nbconvert_exporter": "python",
   "pygments_lexer": "ipython3",
   "version": "3.12.2"
  }
 },
 "nbformat": 4,
 "nbformat_minor": 2
}
