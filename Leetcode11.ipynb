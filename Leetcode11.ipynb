{
 "cells": [
  {
   "cell_type": "code",
   "execution_count": null,
   "metadata": {},
   "outputs": [],
   "source": [
    "# Question 11. Container with the most water\n",
    "\n",
    "# You are given an integer array height of length n. \n",
    "\n",
    "# There are n vertical lines drawn such that the two endpoints of the ith line are (i, 0) and (i, height[i]).\n",
    "\n",
    "# Find two lines that together with the x-axis form a container, such that the container contains the most water.\n",
    "\n",
    "# Return the maximum amount of water a container can store.\n",
    "\n",
    "# Notice that you may not slant the container.\n",
    "\n",
    "# Constraints:\n",
    "\n",
    "# n == height.length\n",
    "# 2 <= n <= 105\n",
    "# 0 <= height[i] <= 104"
   ]
  },
  {
   "cell_type": "code",
   "execution_count": 13,
   "metadata": {},
   "outputs": [
    {
     "name": "stdout",
     "output_type": "stream",
     "text": [
      "49 49\n"
     ]
    }
   ],
   "source": [
    "class solutions_leetcode_11:\n",
    "    def container_brute_force(nums):\n",
    "        max_size = 0 # This is essential, since it defines its values first for comparison.\n",
    "        #Also, essential to be placed here as if being moved afterwards, it will participate in the loop.\n",
    "        for i in range(len(nums) - 1):\n",
    "            for j in range(i + 1, len(nums)):\n",
    "                size = min(nums[i], nums[j]) * (j - i)\n",
    "                max_size = max(max_size, size)\n",
    "        return max_size\n",
    "        \n",
    "    \n",
    "    def container_two_pointers(nums):\n",
    "        left, right = 0, len(nums) - 1\n",
    "        \n",
    "        max_size = 0\n",
    "        \n",
    "\n",
    "        while left < right:\n",
    "            # Setting sizes and max_sizes given left < right\n",
    "            size = min(nums[left], nums[right])*(right - left)\n",
    "            max_size = max(max_size, size)\n",
    "            if nums[left] < nums[right]:\n",
    "                left += 1\n",
    "            else:\n",
    "                right -= 1\n",
    "        return max_size\n",
    "\n",
    "nums = [1,8,6,2,5,4,8,3,7]\n",
    "result_brute_force = solutions_leetcode_11.container_brute_force(nums)\n",
    "result_two_pointers = solutions_leetcode_11.container_two_pointers(nums)\n",
    "print(result_brute_force, result_two_pointers)\n",
    "\n",
    "\n",
    "\n",
    "    "
   ]
  }
 ],
 "metadata": {
  "kernelspec": {
   "display_name": "Python 3",
   "language": "python",
   "name": "python3"
  },
  "language_info": {
   "codemirror_mode": {
    "name": "ipython",
    "version": 3
   },
   "file_extension": ".py",
   "mimetype": "text/x-python",
   "name": "python",
   "nbconvert_exporter": "python",
   "pygments_lexer": "ipython3",
   "version": "3.12.2"
  }
 },
 "nbformat": 4,
 "nbformat_minor": 2
}
