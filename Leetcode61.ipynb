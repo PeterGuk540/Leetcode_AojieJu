{
 "cells": [
  {
   "cell_type": "code",
   "execution_count": 22,
   "metadata": {},
   "outputs": [],
   "source": [
    "# 61. Rotate list\n",
    "\n",
    "# Given the head of a linked list, rotate the list to the right by k places."
   ]
  },
  {
   "cell_type": "code",
   "execution_count": 23,
   "metadata": {},
   "outputs": [
    {
     "name": "stdout",
     "output_type": "stream",
     "text": [
      "Original list:\n",
      "1 -> 2 -> 3 -> 4 -> 5\n",
      "Modified list after rotating right by 2 positions:\n",
      "4 -> 5 -> 1 -> 2 -> 3\n"
     ]
    }
   ],
   "source": [
    "class ListNode:\n",
    "    def __init__(self, val = 0, next = None):\n",
    "        self.val = val\n",
    "        self.next = next\n",
    "\n",
    "class solution_leetcode61:\n",
    "    def solution_pointers (self, head: ListNode, k: int) -> ListNode:\n",
    "       if not head or not head.next or k == 0:\n",
    "           return head\n",
    "       \n",
    "       length = 1\n",
    "       current = head\n",
    "       while current.next:\n",
    "           current = current.next\n",
    "           length += 1\n",
    "       # we first calculate the length of the listcode\n",
    "\n",
    "       current.next = head\n",
    "       # set the last as the head\n",
    "\n",
    "       k = k % length \n",
    "    # remove the situations where k > length\n",
    "       if k == 0:\n",
    "         current.next = None\n",
    "         return(head)\n",
    "       \n",
    "       steps_to_new_tail = length - k - 1\n",
    "       new_tail = head\n",
    "       for _ in range(steps_to_new_tail):\n",
    "        new_tail = new_tail.next\n",
    "       new_head = new_tail.next\n",
    "    \n",
    "       new_tail.next = None\n",
    "       return (new_head)\n",
    "\n",
    "\n",
    "def print_list(head: ListNode):\n",
    "    current = head\n",
    "    while current:\n",
    "        print(current.val, end=\" -> \" if current.next else \"\")\n",
    "        current = current.next\n",
    "    print()  # Newline at the end\n",
    "\n",
    "# Helper function to create a linked list from a list of values\n",
    "def create_linked_list(values):\n",
    "    if not values:\n",
    "        return None\n",
    "    head = ListNode(values[0])\n",
    "    current = head\n",
    "    for value in values[1:]:\n",
    "        current.next = ListNode(value)\n",
    "        current = current.next\n",
    "    return head\n",
    "\n",
    "# Example usage\n",
    "values = [1, 2, 3, 4, 5]  # Initial linked list values\n",
    "k = 2  # Number of rotations\n",
    "\n",
    "# Create the linked list\n",
    "head = create_linked_list(values)\n",
    "print(\"Original list:\")\n",
    "print_list(head)\n",
    "\n",
    "# Rotate the list\n",
    "solution = solution_leetcode61()\n",
    "new_head = solution.solution_pointers(head, k)\n",
    "\n",
    "# Print the modified list\n",
    "print(\"Modified list after rotating right by\", k, \"positions:\")\n",
    "print_list(new_head)      "
   ]
  }
 ],
 "metadata": {
  "kernelspec": {
   "display_name": "Python 3",
   "language": "python",
   "name": "python3"
  },
  "language_info": {
   "codemirror_mode": {
    "name": "ipython",
    "version": 3
   },
   "file_extension": ".py",
   "mimetype": "text/x-python",
   "name": "python",
   "nbconvert_exporter": "python",
   "pygments_lexer": "ipython3",
   "version": "3.12.2"
  }
 },
 "nbformat": 4,
 "nbformat_minor": 2
}
